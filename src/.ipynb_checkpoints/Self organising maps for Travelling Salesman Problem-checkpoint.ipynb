{
 "cells": [
  {
   "cell_type": "code",
   "execution_count": 1,
   "metadata": {},
   "outputs": [
    {
     "data": {
      "text/plain": [
       "\" work original published by on https://github.com/DiegoVicen/som-tsp' \""
      ]
     },
     "execution_count": 1,
     "metadata": {},
     "output_type": "execute_result"
    }
   ],
   "source": [
    "import matplotlib    \n",
    "from helpers import *\n",
    "import imageio   \n",
    "import matplotlib.pyplot as plt  \n",
    "import os      \n",
    "import numpy   \n",
    "import pandas \n",
    "from plts import *   \n",
    "\n",
    "from IPython.display import IFrame \n",
    "import abc   \n",
    "import random  \n",
    "from operator import itemgetter \n",
    "from functools import partial \n",
    "import matplotlib.pyplot as plt\n",
    "import os   \n",
    "\n",
    "# credit \n",
    "\"\"\" work original published by on https://github.com/DiegoVicen/som-tsp' \"\"\""
   ]
  },
  {
   "cell_type": "code",
   "execution_count": 2,
   "metadata": {},
   "outputs": [],
   "source": [
    "def plot_map(directory, cities, neurons, iteration):\n",
    "    \"\"\"\n",
    "    Generates the required map of cities and neurons at a given moment and\n",
    "    stores the result in a png image. The map contains all the cities\n",
    "    represented as red dots and all the neurons as green, crossed by a line    \n",
    "    dots. The method plots the iteration in which the snapshot was taken.\n",
    "    :param cities: the cities to be plotted, passed as a list of (x, y)\n",
    "    coordinates\n",
    "    :param neurons: the cities to be plotted, passed as a list of (x, y)\n",
    "    coordinates\n",
    "    :param iteration: the iterations when the snapshot is taken\n",
    "    :return: returns nothing\n",
    "    \"\"\"\n",
    "    plt.scatter(*zip(*cities), color='red', s=3)\n",
    "    plt.scatter(*zip(*neurons), color='green', s=2)\n",
    "\n",
    "    plt.plot(*zip(*(neurons+[neurons[0]])), color='darkgreen')\n",
    "\n",
    "    # Invert x axis to match representation at\n",
    "    # http://www.math.uwaterloo.ca/tsp/world/countries.html\n",
    "    plt.gca().invert_xaxis()\n",
    "    plt.gca().set_aspect('equal', adjustable='datalim')\n",
    "\n",
    "    plt.title('Iteration #{:06d}'.format(iteration))\n",
    "    plt.axis('off') \n",
    "    plt.savefig('{}/{}.png'.format(directory, iteration))\n",
    "    plt.clf() "
   ]
  },
  {
   "cell_type": "code",
   "execution_count": 3,
   "metadata": {},
   "outputs": [],
   "source": [
    "COUNTRY = 'western_sahara' # could be either of the two\n",
    "SET_ID = 'w' \n",
    "\n",
    "# starting points for the decay functions have been taken \n",
    "# from a prior example \n",
    "DEFAULTS_EXP = {\n",
    "            'western_sahara': ('western_sahara', 8, 500, 50, 50, gaussian,\n",
    "                        ExponentialDecay(0.7, 0.999),\n",
    "                        ExponentialDecay (29 * 8/10, 0.995)),\n",
    "    \n",
    "            'qatar': ('qatar', 8, 5000, 500, 500, gaussian,\n",
    "                        ExponentialDecay(0.9, 0.9999),\n",
    "                        ExponentialDecay(194*8/10, 0.997))\n",
    "            }"
   ]
  },
  {
   "cell_type": "code",
   "execution_count": 4,
   "metadata": {},
   "outputs": [],
   "source": [
    "def plot_map(directory, cities, neurons, iteration):\n",
    "    \"\"\"\n",
    "    Generates the required map of cities and neurons at a given moment and\n",
    "    stores the result in a png image. The map contains all the cities\n",
    "    represented as red dots and all the neurons as green, crossed by a line\n",
    "    dots. The method plots the iteration in which the snapshot was taken.\n",
    "    :param cities: the cities to be plotted, passed as a list of (x, y)\n",
    "    coordinates\n",
    "    :param neurons: the cities to be plotted, passed as a list of (x, y)\n",
    "    coordinates\n",
    "    :param iteration: the iterations when the snapshot is taken\n",
    "    :return: returns nothing\n",
    "    \"\"\"\n",
    "    plt.scatter(*zip(*cities), color='red', s=3)\n",
    "    plt.scatter(*zip(*neurons), color='green', s=2)\n",
    "\n",
    "    plt.plot(*zip(*(neurons+[neurons[0]])), color='darkgreen')\n",
    "\n",
    "    # Invert x axis to match representation at\n",
    "    # http://www.math.uwaterloo.ca/tsp/world/countries.html\n",
    "    plt.gca().invert_xaxis()\n",
    "    plt.gca().set_aspect('equal', adjustable='datalim')\n",
    "\n",
    "    plt.title('Iteration #{:06d}'.format(iteration))\n",
    "    plt.axis('off') \n",
    "    plt.savefig('{}/{}.png'.format(directory, iteration))\n",
    "    plt.clf()  "
   ]
  },
  {
   "cell_type": "code",
   "execution_count": 5,
   "metadata": {},
   "outputs": [
    {
     "data": {
      "text/plain": [
       "<Figure size 432x288 with 0 Axes>"
      ]
     },
     "metadata": {},
     "output_type": "display_data"
    }
   ],
   "source": [
    "plt.figure() \n",
    "\n",
    "# x, y co-ordinate for every city in the country \n",
    "def read_data(filename):\n",
    "    \"\"\"\n",
    "    Reads and parses data from a txt file with a map data. The format that the\n",
    "    function expects is the one followed in the uwaterloo TSP web archive\n",
    "    (math.uwaterloo.ca/tsp/world/countries.html), ignoring the first\n",
    "    description lines that have to be manually removed. The method searches for\n",
    "    the filename in the assets folder.\n",
    "    :param filename: the path to the file to be parsed\n",
    "    :return: the cities as a list of (x, y) coordinates\n",
    "    \"\"\"\n",
    "    cities = [] \n",
    "\n",
    "    path = 'assets/{}.txt'.format(filename)\n",
    "    with open(path, 'r') as f:\n",
    "        for line in f:  \n",
    "            city = list(map(float, line.split()[1:]))\n",
    "            cities.append((city[1], city[0]))\n",
    "    return cities    \n",
    "\n",
    "def get_input():\n",
    "    \"\"\"\n",
    "    Gets the input from the user line or launches the default values\n",
    "    :return data_set: list of cities as (x,y) coordinates\n",
    "    :return n_neurons: number of neurons per city in the data_set\n",
    "    :return iterations: number of iterations to be executed\n",
    "    :return learning_rate: learning rate to be used\n",
    "    :return radius: radius of neurons to be used\n",
    "    \"\"\"\n",
    "    data_sets = {'w': 'western_sahara', 'q': 'qatar'} \n",
    "    data_set = data_sets[SET_ID] \n",
    "\n",
    "    if not os.path.isfile('assets/{}.txt'.format(data_set)):\n",
    "        exit(\"Did not find this data set file!\") \n",
    "\n",
    "    return DEFAULTS_EXP[data_set] "
   ]
  },
  {
   "cell_type": "code",
   "execution_count": 6,
   "metadata": {},
   "outputs": [],
   "source": [
    "def main(IMG_DIR): \n",
    "    data_set, n_neurons, iterations, k, plot_k, neighborhood, learning_rate\\\n",
    "        , radius = get_input()  \n",
    "    cities = read_data(data_set)  \n",
    "    scaling, cities = normalize(cities)\n",
    "    neuron_count = len(cities) * n_neurons \n",
    "    neurons = init_neurons(neuron_count)\n",
    "\n",
    "    # TODO maybe distance param? \n",
    "    som(neurons, cities, iterations, k, plot_k, neighborhood, learning_rate, radius,\n",
    "        scaling, IMG_DIR)  \n",
    "\n",
    "\n",
    "def init_neurons(count): \n",
    "    \"\"\"\n",
    "        Initialize the weights of the neurons \n",
    "        :param count: number of neurons to initialize\n",
    "        :return: list of neurons as weight vectors (x, y)\n",
    "    \"\"\" \n",
    "    return [[random.uniform(0.0, 1.0),\n",
    "             random.uniform(0.0, 1.0)] for i in range(count)]\n",
    "\n",
    "\n",
    "def som(neurons, cities, iterations, k, plot_k, neighborhood, learning_rate,\n",
    "        radius, scaling, IMG_DIR):\n",
    "    \"\"\"\n",
    "    Main SOM loop to be executed.\n",
    "    :param neurons: list of neurons as weight vectors (x,y)\n",
    "    :param cities: list of cities as (x,y) coordinates\n",
    "    :param iterations: number of iterations to perform\n",
    "    :param k: lapse of iterations between printing execution data\n",
    "    :param plot_k: lapse of iterations between saving the map images\n",
    "    :param neighborhood: type of neighborhood to use in the execution\n",
    "    :param learning_rate: learning rate to be used\n",
    "    :param radius: radius of neurons to be used\n",
    "    :param scaling: scale used when normalizing the data\n",
    "    :return: returns nothing\n",
    "    \"\"\"\n",
    "    for i in range(0, iterations+1):\n",
    "        if i % k == 0:\n",
    "            print('#', i, '\\t\\tTSP-distance: ',\n",
    "                  calculate_tsp(cities, neurons)*scaling)\n",
    "        if i % plot_k == 0: \n",
    "            print('plotting to file {}'.format(IMG_DIR))\n",
    "            plot_map(IMG_DIR, cities, neurons, i)\n",
    "        if i == iterations:\n",
    "            break \n",
    "        som_iteration(neurons, cities, neighborhood, learning_rate, radius)\n",
    "\n",
    "\n",
    "def som_iteration(neurons, cities, neighborhood, learning_rate, radius):\n",
    "    \"\"\" \n",
    "     Performs a single SOM iteration with a given set of parameters\n",
    "    :param neurons: list of neurons as weight vectors (x,y)\n",
    "    :param cities: list of cities as (x,y) coordinates\n",
    "    :param neighborhood: type of neighborhood to use in the execution\n",
    "    :param learning_rate: learning rate to be used\n",
    "    :param radius: radius of neurons to be used\n",
    "    :return: returns nothing\n",
    "    \"\"\"\n",
    "    # Pick a random city   \n",
    "    city = cities[random.randint(0, len(cities)-1)]  \n",
    "    \n",
    "    # Choose the winner neuron\n",
    "    winner_index, winner = compute_winner(city, neurons, euclidean_distance_2d)\n",
    "    distance = partial(euclidean_distance_1d_circular, len(neurons)) \n",
    "    \n",
    "    # Update the weights of the neuron and its neighbourhood\n",
    "    for neuron_index, neuron in enumerate(neurons):   \n",
    "        d = distance(neuron_index, winner_index) \n",
    "        nf = neighborhood(d, radius.value)     \n",
    "        neuron[0] += learning_rate.value * nf * (city[0] - neuron[0])\n",
    "        neuron[1] += learning_rate.value * nf * (city[1] - neuron[1])\n",
    "    \n",
    "    learning_rate.decay()    \n",
    "    radius.decay()      \n",
    "\n",
    "def compute_winner(city, neurons, distance):\n",
    "    \"\"\"\n",
    "    Computes the closest neuron to a given city with a given distance\n",
    "    :param city: coordinates (x,y) of the city to be associated to the winner\n",
    "    :param neurons: list of neurons as weight vectors (x,y)\n",
    "    :param distance: type of distance to be used for the computations\n",
    "    :return winner_index: index of the chosen neuron in the neuron list\n",
    "    :return winner: closest neuron to city\n",
    "    \"\"\"\n",
    "    return min([(i, distance(city, neuron)) for i,\n",
    "                neuron in enumerate(neurons)], key=itemgetter(1))\n",
    "\n",
    "\n",
    "def normalize(cities):\n",
    "    \"\"\"\n",
    "    Normalize list of city coordinates\n",
    "    :param cities: list of tuples, containing x and y coordinate\n",
    "    :return: normalized list of city coordinates\n",
    "    \"\"\"\n",
    "    max_x = max(cities,key=itemgetter(0))[0]\n",
    "    max_y = max(cities,key=itemgetter(1))[1]\n",
    "    m = max(max_x, max_y)  \n",
    "    return m, [(x/m, y/m) for (x, y) in cities]\n",
    "\n",
    "\n",
    "def calculate_tsp(cities, neurons):\n",
    "    \"\"\"\n",
    "    Computes the Travelling Salesman distance to travel all the cities using a\n",
    "    list of neurons\n",
    "    :param cities: list of tuples, containing x and y coordinate\n",
    "    :param neurons: list of neurons as weight vectors (x,y)\n",
    "    :return: the distance to travel through cities using neurons\n",
    "    \"\"\" \n",
    "    city_neurons = {}\n",
    "    \n",
    "    for city_idx, city in enumerate(cities):\n",
    "        # find nearest neuron\n",
    "        idx, _ = compute_winner(city, neurons, euclidean_distance_2d)\n",
    "        \n",
    "        if idx not in city_neurons:\n",
    "            city_neurons[idx] = [city]\n",
    "        else: \n",
    "            city_neurons[idx].append(city)\n",
    "\n",
    "    # order cities according to neuron order\n",
    "    tsp_order = []\n",
    "    for neuron_idx in range(len(neurons)):\n",
    "        if neuron_idx in city_neurons:\n",
    "            tsp_order += city_neurons[neuron_idx]\n",
    "\n",
    "    # calculate tsp distance for tsp_order\n",
    "    tsp_distance = euclidean_distance_2d(tsp_order[0], tsp_order[-1])\n",
    "    for idx in range(len(tsp_order)-1):\n",
    "        tsp_distance += euclidean_distance_2d(tsp_order[idx],\n",
    "                                              tsp_order[idx + 1])\n",
    "\n",
    "    return tsp_distance   "
   ]
  },
  {
   "cell_type": "code",
   "execution_count": 7,
   "metadata": {},
   "outputs": [],
   "source": [
    "DIR = \"results_dir\" \n",
    "machine_path = \"/Users/iqrashahzad/Desktop/SOM_TSP/src/\" # change this to your path\n",
    "gif_name = \"display_gif\"  \n",
    "! mkdir $DIR  "
   ]
  },
  {
   "cell_type": "code",
   "execution_count": 8,
   "metadata": {},
   "outputs": [
    {
     "name": "stdout",
     "output_type": "stream",
     "text": [
      "# 0 \t\tTSP-distance:  57117.83348613888\n",
      "plotting to file results_dir\n",
      "# 50 \t\tTSP-distance:  30771.15240362387\n",
      "plotting to file results_dir\n",
      "# 100 \t\tTSP-distance:  29932.831079862586\n",
      "plotting to file results_dir\n",
      "# 150 \t\tTSP-distance:  29661.642899666767\n",
      "plotting to file results_dir\n",
      "# 200 \t\tTSP-distance:  29169.42984240879\n",
      "plotting to file results_dir\n",
      "# 250 \t\tTSP-distance:  28898.24166221297\n",
      "plotting to file results_dir\n",
      "# 300 \t\tTSP-distance:  28898.24166221297\n",
      "plotting to file results_dir\n",
      "# 350 \t\tTSP-distance:  28889.121833029287\n",
      "plotting to file results_dir\n",
      "# 400 \t\tTSP-distance:  28869.51747830098\n",
      "plotting to file results_dir\n",
      "# 450 \t\tTSP-distance:  28869.51747830098\n",
      "plotting to file results_dir\n",
      "# 500 \t\tTSP-distance:  28869.51747830098\n",
      "plotting to file results_dir\n"
     ]
    },
    {
     "data": {
      "text/plain": [
       "<Figure size 432x288 with 0 Axes>"
      ]
     },
     "metadata": {},
     "output_type": "display_data"
    }
   ],
   "source": [
    "main(DIR)    "
   ]
  },
  {
   "cell_type": "code",
   "execution_count": 10,
   "metadata": {},
   "outputs": [],
   "source": [
    "import imageio \n",
    "from PIL import Image \n",
    "\n",
    "def display_gif(path, gif_name, machine_path=machine_path):\n",
    "    dirFiles = [x for x in os.listdir(path) if '.png' in x]\n",
    "    lsorted = sorted(dirFiles, key=lambda x: int(os.path.splitext(x)[0]))\n",
    "    lsorted =[f'{machine_path}{path}/'+ x for x in lsorted] \n",
    "    frames = []\n",
    "    for im in lsorted:  \n",
    "        frames.append(imageio.imread(im))\n",
    "        \n",
    "    imageio.mimsave(f'{gif_name}.gif', frames, fps=1)  \n",
    "    print('Gif saved ')"
   ]
  },
  {
   "cell_type": "code",
   "execution_count": 11,
   "metadata": {},
   "outputs": [
    {
     "name": "stdout",
     "output_type": "stream",
     "text": [
      "Gif saved \n"
     ]
    }
   ],
   "source": [
    "display_gif(DIR, gif_name)  "
   ]
  },
  {
   "cell_type": "code",
   "execution_count": 12,
   "metadata": {},
   "outputs": [
    {
     "data": {
      "text/html": [
       "\n",
       "        <iframe\n",
       "            width=\"700\"\n",
       "            height=\"350\"\n",
       "            src=\"display_gif.gif\"\n",
       "            frameborder=\"0\"\n",
       "            allowfullscreen\n",
       "        ></iframe>\n",
       "        "
      ],
      "text/plain": [
       "<IPython.lib.display.IFrame at 0x7fba7c4aec50>"
      ]
     },
     "execution_count": 12,
     "metadata": {},
     "output_type": "execute_result"
    }
   ],
   "source": [
    "IFrame(f'{gif_name}.gif', width=700, height=350)       "
   ]
  },
  {
   "cell_type": "code",
   "execution_count": null,
   "metadata": {},
   "outputs": [],
   "source": []
  },
  {
   "cell_type": "code",
   "execution_count": null,
   "metadata": {},
   "outputs": [],
   "source": []
  }
 ],
 "metadata": {
  "kernelspec": {
   "display_name": "myenv",
   "language": "python",
   "name": "myenv"
  },
  "language_info": {
   "codemirror_mode": {
    "name": "ipython",
    "version": 3
   },
   "file_extension": ".py",
   "mimetype": "text/x-python",
   "name": "python",
   "nbconvert_exporter": "python",
   "pygments_lexer": "ipython3",
   "version": "3.6.9"
  }
 },
 "nbformat": 4,
 "nbformat_minor": 5
}
