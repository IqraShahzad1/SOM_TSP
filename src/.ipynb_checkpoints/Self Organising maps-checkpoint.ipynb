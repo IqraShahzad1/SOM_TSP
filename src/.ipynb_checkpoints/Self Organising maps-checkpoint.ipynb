{
 "cells": [
  {
   "cell_type": "code",
   "execution_count": 61,
   "metadata": {},
   "outputs": [],
   "source": [
    "import numpy as np    \n",
    "import matplotlib.pyplot as plt  "
   ]
  },
  {
   "cell_type": "code",
   "execution_count": 62,
   "metadata": {},
   "outputs": [
    {
     "name": "stdout",
     "output_type": "stream",
     "text": [
      "/Users/iqrashahzad/miniconda/envs/djangoEnv/bin/python\r\n"
     ]
    }
   ],
   "source": [
    "! which python"
   ]
  },
  {
   "cell_type": "code",
   "execution_count": 63,
   "metadata": {},
   "outputs": [],
   "source": [
    "width = 10\n",
    "height = 10\n",
    "weights_dim = 3 \n",
    "\n",
    "init_radius = max(height, width) / 2  \n",
    "n_iterations = 1000\n",
    "time_constant = n_iterations / np.log(init_radius) \n",
    "init_learning_rate = 0.1   \n",
    "\n",
    "training_data = np.random.random((weights_dim, n_iterations))\n",
    "som = np.random.random((width, height, weights_dim)) \n",
    "radius_list = []\n",
    "learningrate_list = []"
   ]
  },
  {
   "cell_type": "code",
   "execution_count": 64,
   "metadata": {},
   "outputs": [
    {
     "data": {
      "image/png": "[encoded data removed]",
      "text/plain": [
       "<Figure size 432x288 with 1 Axes>"
      ]
     },
     "metadata": {
      "needs_background": "light"
     },
     "output_type": "display_data"
    }
   ],
   "source": [
    "old_som = som\n",
    "weights_to_map(old_som, n_iterations)"
   ]
  },
  {
   "cell_type": "code",
   "execution_count": 65,
   "metadata": {},
   "outputs": [],
   "source": [
    "# plt.plot(np.array(learningrate_list), linestyle = 'dotted') # decay function and learning rate \n",
    "def update_influence(distance, radius):\n",
    "    \"\"\" updates the learning rate given the iteration number and initial radius\"\"\" \n",
    "    # this eq is implemented as is given in the task \n",
    "    return np.exp(-distance / (2 * (radius ** 2)))  \n",
    " \n",
    "def update_weights(current_weights, lr, theta, bmu_vector):\n",
    "    \"\"\"\n",
    "        Update the weight within the radius  \n",
    "        as per the calculated influence, and learning  \n",
    "        rate  \n",
    "    \"\"\"  \n",
    "    # this eq is implemented as is given in the task  \n",
    "    updated_weights = current_weights + (lr * theta * (bmu_vector - current_weights))\n",
    "\n",
    "def update_matrix(distance_matrix, som, radius, lr, my_array): \n",
    "    theta = update_influence(distance_matrix, radius)    \n",
    "    repeated_theta = np.repeat(theta, repeats=som.shape[2])\n",
    "    repeated_theta = repeated_theta.reshape(theta.shape[0], theta.shape[1], -1) \n",
    "    \n",
    "    # calc the suspected new weights. \n",
    "    new_weights = som + (lr * repeated_theta * (som - my_array)) \n",
    "    \n",
    "    # vectorized approach - try and get this again \n",
    "    radius_repeated = np.repeat(radius, repeats=height*width).reshape(height, width) \n",
    "    return_som = som \n",
    "    \n",
    "    for _k in range(som.shape[2]):\n",
    "        updated_weights = np.where(distance_matrix < radius_repeated, som[:, :, _k], new_weights[:, :, _k])\n",
    "        return_som[:, :, _k] = updated_weights\n",
    "        \n",
    "    return return_som\n",
    "\n",
    "def distance(a, b):  \n",
    "    out = np.sqrt(np.sum((a-b)**2, axis=2))\n",
    "    return out \n",
    "\n",
    "def update_radius(initial_radius, iter_num, time_constant): \n",
    "    \"\"\" updates the radius given the iteration number and initial radius\"\"\" \n",
    "    # this eq is implemented as is given in the task\n",
    "    return initial_radius * np.exp(-iter_num / time_constant) \n",
    "\n",
    "def get_bmu(matrix, my_array):\n",
    "    k = matrix.shape[0]  * matrix.shape[1]\n",
    "    assert  matrix.shape[2] == len(my_array), \"raise exception mismatch\"\n",
    "    out = np.broadcast_to(my_array, (k,  *my_array.shape)).reshape(matrix.shape[0] , matrix.shape[1] , len(my_array)) \n",
    "    output = distance(matrix, out)\n",
    "    result = np.where(output == np.amin(output))\n",
    "    listOfCordinates = list(zip(result[0], result[1]))\n",
    "    return listOfCordinates \n",
    "\n",
    "def calculate_distance(bmu_idxs, node_idxs):\n",
    "    \"\"\" Calculates the pythogarean distance between node and bmu\"\"\"\n",
    "    # this eq is implemented as is given in the task, however numpy vectorization has \n",
    "    # been used of instead of applying the difference individually \n",
    "    distance = np.sum((node_idxs - bmu_idxs) ** 2)\n",
    "    distance = np.sqrt(distance)   \n",
    "    return distance  \n",
    "\n",
    "def update_weights_old(current_weights, lr, theta, bmu_vector):\n",
    "    \"\"\"\n",
    "        Update the weight within the radius  \n",
    "        as per the calculated influence, and learning  \n",
    "        rate  \n",
    "    \"\"\"  \n",
    "    # this eq is implemented as is given in the task  \n",
    "    updated_weights = current_weights + (lr * theta * (bmu_vector - current_weights))\n",
    "    return updated_weights \n",
    "\n",
    "\n",
    "def update_learning_rate(initial_learning_rate, iter_num, n_iterations):\n",
    "    \"\"\" updates the learning rate given the iteration number and initial radius\"\"\" \n",
    "    # this eq is implemented as is given in the task\n",
    "    return initial_learning_rate * np.exp(-iter_num / n_iterations)   "
   ]
  },
  {
   "cell_type": "code",
   "execution_count": 66,
   "metadata": {},
   "outputs": [],
   "source": [
    "#  np.sqrt(np.sum((som-sample_array)**2, axis=2))\n",
    "for i in range((training_data.shape[1])): \n",
    "    sample_array  = training_data[:, i]\n",
    "    bmu_coordinates = get_bmu(som, sample_array)  \n",
    "    radius = update_radius(init_radius, i, time_constant) \n",
    "    radius_list.append(radius)\n",
    "    lr = update_learning_rate(init_learning_rate, i, n_iterations) \n",
    "    learningrate_list.append(lr) \n",
    "    smart_node = som[bmu_coordinates[0][0], bmu_coordinates[0][1], :]   # this works as expected \n",
    "    \n",
    "    \n",
    "    # 2d array and a bit much  \n",
    "    for x_i in range(som.shape[0]): \n",
    "        for y_i in range(som.shape[1]):\n",
    "            w = som[x_i, y_i, :].reshape(3, 1)  #  shape => 3, 1 \n",
    "            node_idxs = np.array([x_i, y_i]) \n",
    "            bmu_idx = np.array([bmu_coordinates[0][0], bmu_coordinates[0][1]])\n",
    "            dist = calculate_distance(node_idxs, bmu_idx)   \n",
    "            \n",
    "            if dist <= radius: \n",
    "                # within the radius \n",
    "                # calculate the degree of influence (based on the 2-D distance)\n",
    "                theta = update_influence(dist, radius) \n",
    "                updated_weights = update_weights_old(w, lr, theta, sample_array.reshape(3, 1))\n",
    "                som[x_i, y_i, :] = updated_weights.reshape(1, 3) "
   ]
  },
  {
   "cell_type": "code",
   "execution_count": 67,
   "metadata": {},
   "outputs": [],
   "source": [
    "from matplotlib import patches as patches \n",
    "def weights_to_map(matrix, iters, margins=1):\n",
    "    \"\"\" \n",
    "        Uses the given matrix, and adjusts the plot \n",
    "        using matplotlib to view the colors\n",
    "    \"\"\"\n",
    "    fig = plt.figure()\n",
    "    ax = fig.add_subplot(111, aspect='equal')  \n",
    "    ax.set_xlim((0, matrix.shape[0] + margins))\n",
    "    ax.set_ylim((0, matrix.shape[1] + margins)) \n",
    "    ax.set_title('Kohonen networ after %d iterations' % iters)\n",
    "    \n",
    "    # loop over the matrix to get the values \n",
    "    for x in range(1, matrix.shape[0] + 1):\n",
    "        for y in range(1, matrix.shape[1] + 1): \n",
    "            ax.add_patch(patches.Rectangle((x - (margins / 2), y - (margins / 2)), 1, 1,\n",
    "                         facecolor = matrix[x - 1, y - 1, :], \n",
    "                         edgecolor ='none'))\n",
    "    # plt.show()   "
   ]
  },
  {
   "cell_type": "code",
   "execution_count": 68,
   "metadata": {},
   "outputs": [
    {
     "data": {
      "image/png": "[encoded data removed]",
      "text/plain": [
       "<Figure size 432x288 with 1 Axes>"
      ]
     },
     "metadata": {
      "needs_background": "light"
     },
     "output_type": "display_data"
    }
   ],
   "source": [
    "weights_to_map(som, n_iterations, margins=1)   "
   ]
  },
  {
   "cell_type": "code",
   "execution_count": null,
   "metadata": {},
   "outputs": [],
   "source": []
  }
 ],
 "metadata": {
  "kernelspec": {
   "display_name": "myenv",
   "language": "python",
   "name": "myenv"
  },
  "language_info": {
   "codemirror_mode": {
    "name": "ipython",
    "version": 3
   },
   "file_extension": ".py",
   "mimetype": "text/x-python",
   "name": "python",
   "nbconvert_exporter": "python",
   "pygments_lexer": "ipython3",
   "version": "3.6.9"
  }
 },
 "nbformat": 4,
 "nbformat_minor": 4
}
